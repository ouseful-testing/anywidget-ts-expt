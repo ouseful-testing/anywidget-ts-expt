{
	"cells": [
		{
			"cell_type": "code",
			"execution_count": 1,
			"metadata": {},
			"outputs": [
				{
					"name": "stdout",
					"output_type": "stream",
					"text": [
						"env: ANYWIDGET_HMR=1\n"
					]
				}
			],
			"source": [
				"%load_ext autoreload\n",
				"%autoreload 2\n",
				"%env ANYWIDGET_HMR=1"
			]
		},
		{
			"cell_type": "code",
			"execution_count": 20,
			"metadata": {},
			"outputs": [
				{
					"data": {
						"application/vnd.jupyter.widget-view+json": {
							"model_id": "5897a2f27ff848dd97846a5f6d3ec547",
							"version_major": 2,
							"version_minor": 1
						},
						"text/plain": [
							"Widget()"
						]
					},
					"execution_count": 20,
					"metadata": {},
					"output_type": "execute_result"
				}
			],
			"source": [
				"from src.anywidget_ts_expt import Widget\n",
				"Widget()"
			]
		},
		{
			"cell_type": "code",
			"execution_count": 19,
			"metadata": {},
			"outputs": [
				{
					"data": {
						"application/vnd.jupyter.widget-view+json": {
							"model_id": "174d53458ee347819ba4b6b21138719e",
							"version_major": 2,
							"version_minor": 1
						},
						"text/plain": [
							"switchledsWidget()"
						]
					},
					"execution_count": 19,
					"metadata": {},
					"output_type": "execute_result"
				}
			],
			"source": [
				"from src.anywidget_ts_expt import switchledsWidget\n",
				"\n",
				"z = switchledsWidget()\n",
				"z"
			]
		},
		{
			"cell_type": "code",
			"execution_count": 17,
			"metadata": {},
			"outputs": [],
			"source": [
				"z.code_content = \"\"\"\n",
				"#define LED_PIN 13\n",
				"#define BUTTON_PIN 12\n",
				"void setup() {\n",
				"  pinMode(LED_PIN, OUTPUT);\n",
				"  pinMode(BUTTON_PIN, INPUT);\n",
				"}\n",
				"void loop() {\n",
				"  if (digitalRead(BUTTON_PIN) == HIGH) {\n",
				"    digitalWrite(LED_PIN, HIGH);\n",
				"  }\n",
				"  else {\n",
				"    digitalWrite(LED_PIN, LOW);\n",
				"  }\n",
				"}\"\"\""
			]
		},
		{
			"cell_type": "code",
			"execution_count": 34,
			"metadata": {},
			"outputs": [
				{
					"data": {
						"application/vnd.jupyter.widget-view+json": {
							"model_id": "e4b60d3542234215bdbd02555ebb55bb",
							"version_major": 2,
							"version_minor": 1
						},
						"text/plain": [
							"Widget()"
						]
					},
					"execution_count": 34,
					"metadata": {},
					"output_type": "execute_result"
				}
			],
			"source": [
				"from src.anywidget_ts_expt import Widget\n",
				"\n",
				"Widget()"
			]
		},
		{
			"cell_type": "code",
			"execution_count": 4,
			"metadata": {},
			"outputs": [
				{
					"data": {
						"application/vnd.jupyter.widget-view+json": {
							"model_id": "f77224b3398e43b3a65fbf53f5e3084f",
							"version_major": 2,
							"version_minor": 1
						},
						"text/plain": [
							"matrixdemoWidget()"
						]
					},
					"execution_count": 4,
					"metadata": {},
					"output_type": "execute_result"
				}
			],
			"source": [
				"from src.anywidget_ts_expt import matrixdemoWidget\n",
				"\n",
				"y = matrixdemoWidget()\n",
				"y"
			]
		},
		{
			"cell_type": "code",
			"execution_count": 24,
			"metadata": {},
			"outputs": [],
			"source": [
				"y.code_content = \"\"\"\n",
				"#include \"FastLED.h\"\n",
				"\n",
				"// Matrix size\n",
				"#define NUM_ROWS 9\n",
				"#define NUM_COLS 9\n",
				"\n",
				"// LEDs pin\n",
				"#define DATA_PIN 3\n",
				"\n",
				"// LED brightness\n",
				"#define BRIGHTNESS 180\n",
				"\n",
				"#define NUM_LEDS NUM_ROWS * NUM_COLS\n",
				"\n",
				"// Define the array of leds\n",
				"CRGB leds[NUM_LEDS];\n",
				"\n",
				"void setup() {\n",
				"  FastLED.addLeds<NEOPIXEL, DATA_PIN>(leds, NUM_LEDS);\n",
				"  FastLED.setBrightness(BRIGHTNESS);\n",
				"}\n",
				"\n",
				"int counter = 0;\n",
				"void loop() {\n",
				"  for (byte row = 0; row < NUM_ROWS; row++) {\n",
				"    for (byte col = 0; col < 1; col++) {\n",
				"      int delta = abs(NUM_ROWS - row * 2) + abs(NUM_COLS - col * 2);\n",
				"      leds[row * NUM_COLS + col] = CHSV(delta * 4 + counter, 255, 255);\n",
				"    }\n",
				"  }\n",
				"  FastLED.show();\n",
				"  delay(5);\n",
				"  counter++;\n",
				"}\n",
				"\"\"\""
			]
		},
		{
			"cell_type": "code",
			"execution_count": 11,
			"metadata": {},
			"outputs": [
				{
					"data": {
						"application/vnd.jupyter.widget-view+json": {
							"model_id": "afdab627630440ae98cbf34261f92ffc",
							"version_major": 2,
							"version_minor": 1
						},
						"text/plain": [
							"ledsdemoWidget()"
						]
					},
					"execution_count": 11,
					"metadata": {},
					"output_type": "execute_result"
				}
			],
			"source": [
				"from src.anywidget_ts_expt import ledsdemoWidget\n",
				"\n",
				"x = ledsdemoWidget()\n",
				"x"
			]
		},
		{
			"cell_type": "code",
			"execution_count": 22,
			"metadata": {},
			"outputs": [],
			"source": [
				"x.code_content = \"\"\"\n",
				"// LEDs connected to pins 8..13\n",
				"\n",
				"byte leds[] = {13, 12, 11, 10, 9, 8};\n",
				"void setup() {\n",
				"  for (byte i = 0; i < sizeof(leds); i++) {\n",
				"    pinMode(leds[i], OUTPUT);\n",
				"  }\n",
				"}\n",
				"\n",
				"int i = 0;\n",
				"void loop() {\n",
				"  digitalWrite(leds[i], HIGH);\n",
				"  delay(250);\n",
				"  digitalWrite(leds[i], LOW);\n",
				"  i = (i + 1) % sizeof(leds);\n",
				"}\n",
				"\"\"\""
			]
		},
		{
			"cell_type": "code",
			"execution_count": 88,
			"metadata": {},
			"outputs": [],
			"source": [
				"@magics_class\n",
				"class ArduinoMagic(Magics):\n",
				"    def __init__(self, shell):\n",
				"        super(ArduinoMagic, self).__init__(shell)\n",
				"\n",
				"    @cell_magic\n",
				"    def leds_magic(self, line, cell):\n",
				"        obj_name = line.strip()\n",
				"        if cell:\n",
				"            self.shell.user_ns[obj_name].set_code_content(cell)\n",
				"\n",
				"\n",
				"ip = get_ipython()\n",
				"ip.register_magics(ArduinoMagic)"
			]
		},
		{
			"cell_type": "code",
			"execution_count": 113,
			"metadata": {},
			"outputs": [],
			"source": [
				"%%leds_magic x\n",
				"\n",
				"byte leds[] = {13, 12, 11, 10, 9, 8};\n",
				"void setup() {\n",
				"  for (byte i = 0; i < sizeof(leds); i++) {\n",
				"    pinMode(leds[i], OUTPUT);\n",
				"  }\n",
				"}\n",
				"\n",
				"int i = 0;\n",
				"void loop() {\n",
				"  digitalWrite(leds[i], HIGH);\n",
				"  delay(250);\n",
				"  digitalWrite(leds[i], LOW);\n",
				"  i = (i + 1) % sizeof(leds);\n",
				"}"
			]
		},
		{
			"cell_type": "code",
			"execution_count": 61,
			"metadata": {},
			"outputs": [],
			"source": [
				"from IPython.core.magic import register_cell_magic, Magics, magics_class, cell_magic\n",
				"from IPython import get_ipython\n",
				"\n",
				"\n",
				"# Define a sample global object\n",
				"class MyObj:\n",
				"    def __init__(self):\n",
				"        self.value = \"DEFAULT\"\n",
				"\n",
				"    def set_element(self, value):\n",
				"        self.value = value\n",
				"        print(f\"value set to: {self.value}\")\n",
				"\n",
				"\n",
				"# Create an instance of MyObj\n",
				"myobject = MyObj()\n",
				"\n",
				"\n",
				"@magics_class\n",
				"class MyMagics(Magics):\n",
				"    @cell_magic\n",
				"    def set_value(self, line, cell):\n",
				"        obj_name = line.strip()  # Get the object name from the line argument\n",
				"        # Access the object from the IPython namespace\n",
				"        obj = get_ipython().user_ns.get(obj_name, None)\n",
				"        if obj:\n",
				"            obj.set_element(cell.strip())\n",
				"        else:\n",
				"            print(f\"No object named '{obj_name}' found in the global namespace.\")\n",
				"\n",
				"\n",
				"# Register the magic function\n",
				"ip = get_ipython()\n",
				"ip.register_magics(MyMagics)"
			]
		},
		{
			"cell_type": "code",
			"execution_count": 64,
			"metadata": {},
			"outputs": [
				{
					"data": {
						"text/plain": [
							"'This is the content of the cell.'"
						]
					},
					"execution_count": 64,
					"metadata": {},
					"output_type": "execute_result"
				}
			],
			"source": [
				"myobject.value"
			]
		},
		{
			"cell_type": "code",
			"execution_count": 63,
			"metadata": {},
			"outputs": [
				{
					"name": "stdout",
					"output_type": "stream",
					"text": [
						"value set to: This is the content of the cell.\n"
					]
				}
			],
			"source": [
				"%%set_value myobject\n",
				"This is the content of the cell."
			]
		},
		{
			"cell_type": "code",
			"execution_count": null,
			"metadata": {},
			"outputs": [],
			"source": []
		}
	],
	"metadata": {
		"kernelspec": {
			"display_name": "Python 3",
			"language": "python",
			"name": "python3"
		},
		"language_info": {
			"codemirror_mode": {
				"name": "ipython",
				"version": 3
			},
			"file_extension": ".py",
			"mimetype": "text/x-python",
			"name": "python",
			"nbconvert_exporter": "python",
			"pygments_lexer": "ipython3",
			"version": "3.11.0"
		}
	},
	"nbformat": 4,
	"nbformat_minor": 2
}
